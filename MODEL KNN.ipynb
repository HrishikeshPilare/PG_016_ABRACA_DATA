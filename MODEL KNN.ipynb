{
 "cells": [
  {
   "cell_type": "code",
   "execution_count": 1,
   "metadata": {},
   "outputs": [],
   "source": [
    "import pandas as pd\n",
    "import numpy as np\n",
    "\n",
    "from sklearn.neighbors import KNeighborsClassifier\n",
    "from sklearn.metrics import classification_report\n",
    "from scipy.spatial import distance\n",
    "\n",
    "from sklearn.model_selection import train_test_split\n",
    "from sklearn import svm,metrics\n",
    "from sklearn.preprocessing import StandardScaler\n",
    "from sklearn.svm import SVC\n",
    "from sklearn.metrics import accuracy_score"
   ]
  },
  {
   "cell_type": "code",
   "execution_count": 2,
   "metadata": {},
   "outputs": [],
   "source": [
    "df=pd.read_csv('cleaned.csv')"
   ]
  },
  {
   "cell_type": "markdown",
   "metadata": {},
   "source": [
    "# Convert the given data into an array"
   ]
  },
  {
   "cell_type": "code",
   "execution_count": 3,
   "metadata": {},
   "outputs": [
    {
     "data": {
      "text/plain": [
       "array([[23.0, 'F', 'HIGH', 'HIGH', 25.355],\n",
       "       [47.0, 'M', 'LOW', 'HIGH', 13.093],\n",
       "       [47.0, 'M', 'LOW', 'HIGH', 10.114],\n",
       "       [28.0, 'F', 'NORMAL', 'HIGH', 7.797999999999999],\n",
       "       [61.0, 'F', 'LOW', 'HIGH', 18.043],\n",
       "       [22.0, 'F', 'NORMAL', 'HIGH', 8.607000000000001],\n",
       "       [49.0, 'F', 'NORMAL', 'HIGH', 16.275],\n",
       "       [41.0, 'M', 'LOW', 'HIGH', 11.037],\n",
       "       [60.0, 'M', 'NORMAL', 'HIGH', 15.171],\n",
       "       [43.0, 'M', 'LOW', 'NORMAL', 19.368]], dtype=object)"
      ]
     },
     "execution_count": 3,
     "metadata": {},
     "output_type": "execute_result"
    }
   ],
   "source": [
    "df1 = df[['Age', 'Sex', 'BP', 'Cholesterol', 'Na_to_K']].values\n",
    "df1[0:10]"
   ]
  },
  {
   "cell_type": "markdown",
   "metadata": {},
   "source": [
    "# Converting the categorical values into mumerical values"
   ]
  },
  {
   "cell_type": "code",
   "execution_count": 4,
   "metadata": {},
   "outputs": [],
   "source": [
    "from sklearn import preprocessing\n",
    "\n",
    "le_sex = preprocessing.LabelEncoder()\n",
    "le_sex.fit(['F','M'])\n",
    "df1[:,1] = le_sex.transform(df1[:,1]) "
   ]
  },
  {
   "cell_type": "code",
   "execution_count": 5,
   "metadata": {},
   "outputs": [],
   "source": [
    "le_BP = preprocessing.LabelEncoder()\n",
    "le_BP.fit([ 'LOW', 'NORMAL', 'HIGH'])\n",
    "df1[:,2] = le_BP.transform(df1[:,2])"
   ]
  },
  {
   "cell_type": "code",
   "execution_count": 6,
   "metadata": {},
   "outputs": [],
   "source": [
    "le_Chol = preprocessing.LabelEncoder()\n",
    "le_Chol.fit(['LOW','NORMAL', 'HIGH'])\n",
    "df1[:,3] = le_Chol.transform(df1[:,3]) "
   ]
  },
  {
   "cell_type": "code",
   "execution_count": 7,
   "metadata": {},
   "outputs": [
    {
     "data": {
      "text/plain": [
       "0    drugY\n",
       "1    drugC\n",
       "2    drugC\n",
       "3    drugX\n",
       "4    drugY\n",
       "Name: Drug, dtype: object"
      ]
     },
     "execution_count": 7,
     "metadata": {},
     "output_type": "execute_result"
    }
   ],
   "source": [
    "drug = df[\"Drug\"]\n",
    "drug[0:5]"
   ]
  },
  {
   "cell_type": "markdown",
   "metadata": {},
   "source": [
    "# Splitting the dataset into training set and testing set in a 70:30 ratio"
   ]
  },
  {
   "cell_type": "code",
   "execution_count": 8,
   "metadata": {},
   "outputs": [],
   "source": [
    "from sklearn.model_selection import train_test_split\n",
    "X_trainset, X_testset, y_trainset, y_testset = train_test_split(df1, drug, test_size=0.3, random_state=3)"
   ]
  },
  {
   "cell_type": "markdown",
   "metadata": {},
   "source": [
    "# Training the KNN model"
   ]
  },
  {
   "cell_type": "code",
   "execution_count": 9,
   "metadata": {},
   "outputs": [
    {
     "data": {
      "text/plain": [
       "KNeighborsClassifier(algorithm='auto', leaf_size=30,\n",
       "                     metric=<function cityblock at 0x0000028BF8DBD708>,\n",
       "                     metric_params=None, n_jobs=None, n_neighbors=8, p=2,\n",
       "                     weights='uniform')"
      ]
     },
     "execution_count": 9,
     "metadata": {},
     "output_type": "execute_result"
    }
   ],
   "source": [
    "sc_scale = StandardScaler()\n",
    "X_trainset = sc_scale.fit_transform(X_trainset)\n",
    "X_testset = sc_scale.transform(X_testset)\n",
    "\n",
    "# Square Euclidean distance model\n",
    "knn_euclid_model = KNeighborsClassifier(n_neighbors=8, metric=distance.sqeuclidean) \n",
    "# Manhattan distance model\n",
    "knn_manhattan_model = KNeighborsClassifier(n_neighbors=8, metric=distance.cityblock) \n",
    "# Training models\n",
    "knn_euclid_model.fit(X_trainset,y_trainset) \n",
    "knn_manhattan_model.fit(X_trainset, y_trainset)"
   ]
  },
  {
   "cell_type": "markdown",
   "metadata": {},
   "source": [
    "# Prediction"
   ]
  },
  {
   "cell_type": "code",
   "execution_count": 10,
   "metadata": {},
   "outputs": [
    {
     "data": {
      "text/html": [
       "<div>\n",
       "<style scoped>\n",
       "    .dataframe tbody tr th:only-of-type {\n",
       "        vertical-align: middle;\n",
       "    }\n",
       "\n",
       "    .dataframe tbody tr th {\n",
       "        vertical-align: top;\n",
       "    }\n",
       "\n",
       "    .dataframe thead th {\n",
       "        text-align: right;\n",
       "    }\n",
       "</style>\n",
       "<table border=\"1\" class=\"dataframe\">\n",
       "  <thead>\n",
       "    <tr style=\"text-align: right;\">\n",
       "      <th></th>\n",
       "      <th>actual_drug</th>\n",
       "      <th>manhattan_model</th>\n",
       "      <th>euclid_model</th>\n",
       "    </tr>\n",
       "  </thead>\n",
       "  <tbody>\n",
       "    <tr>\n",
       "      <td>40</td>\n",
       "      <td>drugY</td>\n",
       "      <td>drugY</td>\n",
       "      <td>drugY</td>\n",
       "    </tr>\n",
       "    <tr>\n",
       "      <td>51</td>\n",
       "      <td>drugX</td>\n",
       "      <td>drugX</td>\n",
       "      <td>drugX</td>\n",
       "    </tr>\n",
       "    <tr>\n",
       "      <td>140</td>\n",
       "      <td>drugX</td>\n",
       "      <td>drugX</td>\n",
       "      <td>drugC</td>\n",
       "    </tr>\n",
       "    <tr>\n",
       "      <td>132</td>\n",
       "      <td>drugY</td>\n",
       "      <td>drugY</td>\n",
       "      <td>drugY</td>\n",
       "    </tr>\n",
       "    <tr>\n",
       "      <td>171</td>\n",
       "      <td>drugX</td>\n",
       "      <td>drugX</td>\n",
       "      <td>drugX</td>\n",
       "    </tr>\n",
       "  </tbody>\n",
       "</table>\n",
       "</div>"
      ],
      "text/plain": [
       "    actual_drug manhattan_model euclid_model\n",
       "40        drugY           drugY        drugY\n",
       "51        drugX           drugX        drugX\n",
       "140       drugX           drugX        drugC\n",
       "132       drugY           drugY        drugY\n",
       "171       drugX           drugX        drugX"
      ]
     },
     "execution_count": 10,
     "metadata": {},
     "output_type": "execute_result"
    }
   ],
   "source": [
    "knn_manhattan_prediction = knn_manhattan_model.predict(X_testset)\n",
    "knn_euclid_prediction = knn_euclid_model.predict(X_testset) \n",
    "df1 = pd.DataFrame({'actual_drug': y_testset, 'manhattan_model': knn_manhattan_prediction, 'euclid_model': knn_euclid_prediction})\n",
    "df1.head()"
   ]
  },
  {
   "cell_type": "markdown",
   "metadata": {},
   "source": [
    "# Checking accuracy of the KNN MODEL"
   ]
  },
  {
   "cell_type": "code",
   "execution_count": 12,
   "metadata": {},
   "outputs": [
    {
     "name": "stdout",
     "output_type": "stream",
     "text": [
      "KNN Manhattan Model Accuracy: 78.69%\n",
      "\n",
      "\n",
      "KNN Square Model Euclidean Accuracy: 72.13%\n"
     ]
    }
   ],
   "source": [
    "knn_manhattan_count = len(df1.loc[df1['manhattan_model'] == df1['actual_drug']])\n",
    "knn_euclid_count = len(df1.loc[df1['euclid_model'] == df1['actual_drug']])\n",
    "print('KNN Manhattan Model Accuracy: {}%'.format(round(100*knn_manhattan_count/len(df1), 2)))\n",
    "print ('\\n')\n",
    "print('KNN Square Model Euclidean Accuracy: {}%'.format(round(100*knn_euclid_count/len(df1), 2)))"
   ]
  }
 ],
 "metadata": {
  "kernelspec": {
   "display_name": "Python 3",
   "language": "python",
   "name": "python3"
  },
  "language_info": {
   "codemirror_mode": {
    "name": "ipython",
    "version": 3
   },
   "file_extension": ".py",
   "mimetype": "text/x-python",
   "name": "python",
   "nbconvert_exporter": "python",
   "pygments_lexer": "ipython3",
   "version": "3.7.4"
  }
 },
 "nbformat": 4,
 "nbformat_minor": 2
}
